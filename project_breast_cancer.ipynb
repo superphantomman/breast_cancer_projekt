{
  "cells": [
    {
      "cell_type": "markdown",
      "metadata": {
        "id": "mqCSbDqlZ_9Q"
      },
      "source": [
        "# **Projekt breast cancer**\n",
        "\n",
        "**Treść polecenia:**\n",
        "Stwórz model z wykorzystaniem wybranego algorytmu uczenia maszynowego.\n",
        "Model ma przewidywać czy guz nowotworowy o danych parametrach jest\n",
        "łagodny (klasa B) czy złośliwy (klasa M)."
      ]
    },
    {
      "cell_type": "markdown",
      "metadata": {
        "id": "dUp0WagmfnRy"
      },
      "source": [
        "W poniższym przykładzie analizujemy zakres danego pola w jakim się mieszczą wartości rekordów."
      ]
    },
    {
      "cell_type": "code",
      "execution_count": null,
      "metadata": {
        "colab": {
          "base_uri": "https://localhost:8080/"
        },
        "id": "JNAnZtItfMUX",
        "outputId": "bf483249-91e5-46fa-fc4b-9413c3a10797"
      },
      "outputs": [
        {
          "name": "stdout",
          "output_type": "stream",
          "text": [
            "Range of 'id' values: Min = 8670, Max = 911320502\n",
            "Column 'diagnosis' is not numeric and has no range.\n",
            "Range of 'radius_mean' values: Min = 6.981, Max = 28.11\n",
            "Range of 'texture_mean' values: Min = 9.71, Max = 39.28\n",
            "Range of 'perimeter_mean' values: Min = 43.79, Max = 188.5\n",
            "Range of 'area_mean' values: Min = 143.5, Max = 2501.0\n",
            "Range of 'smoothness_mean' values: Min = 0.05263, Max = 0.1634\n",
            "Range of 'compactness_mean' values: Min = 0.01938, Max = 0.3454\n",
            "Range of 'concavity_mean' values: Min = 0.0, Max = 0.4268\n",
            "Range of 'points_mean' values: Min = 0.0, Max = 0.2012\n",
            "Range of 'symmetry_mean' values: Min = 0.106, Max = 0.304\n",
            "Range of 'dimension_mean' values: Min = 0.04996, Max = 0.09744\n",
            "Range of 'radius_se' values: Min = 0.1115, Max = 2.873\n",
            "Range of 'texture_se' values: Min = 0.3602, Max = 4.885\n",
            "Range of 'perimeter_se' values: Min = 0.757, Max = 21.98\n",
            "Range of 'area_se' values: Min = 6.802, Max = 542.2\n",
            "Range of 'smoothness_se' values: Min = 0.001713, Max = 0.03113\n",
            "Range of 'compactness_se' values: Min = 0.002252, Max = 0.1354\n",
            "Range of 'concavity_se' values: Min = 0.0, Max = 0.396\n",
            "Range of 'points_se' values: Min = 0.0, Max = 0.05279\n",
            "Range of 'symmetry_se' values: Min = 0.007882, Max = 0.07895\n",
            "Range of 'dimension_se' values: Min = 0.0008948, Max = 0.02984\n",
            "Range of 'radius_worst' values: Min = 7.93, Max = 36.04\n",
            "Range of 'texture_worst' values: Min = 12.02, Max = 49.54\n",
            "Range of 'perimeter_worst' values: Min = 50.41, Max = 251.2\n",
            "Range of 'area_worst' values: Min = 185.2, Max = 4254.0\n",
            "Range of 'smoothness_worst' values: Min = 0.07117, Max = 0.2226\n",
            "Range of 'compactness_worst' values: Min = 0.02729, Max = 1.058\n",
            "Range of 'concavity_worst' values: Min = 0.0, Max = 1.252\n",
            "Range of 'points_worst' values: Min = 0.0, Max = 0.291\n",
            "Range of 'symmetry_worst' values: Min = 0.1565, Max = 0.6638\n",
            "Range of 'dimension_worst' values: Min = 0.05504, Max = 0.2075\n"
          ]
        }
      ],
      "source": [
        "import pandas as pd\n",
        "\n",
        "# Wczytaj dane z pliku CSV\n",
        "dataframe = pd.read_csv('/content/project_data/wisc_bc_data.csv')\n",
        "\n",
        "# Funkcja do obliczenia zakresu wartości dla wszystkich kolumn\n",
        "def calculate_ranges(df):\n",
        "    ranges = {}\n",
        "    for column in df.columns:\n",
        "        if pd.api.types.is_numeric_dtype(df[column]):\n",
        "            min_value = df[column].min()\n",
        "            max_value = df[column].max()\n",
        "            ranges[column] = (min_value, max_value)\n",
        "        else:\n",
        "            ranges[column] = (None, None)  # Dla kolumn nienumerycznych nie obliczamy zakresu\n",
        "    return ranges\n",
        "\n",
        "# Oblicz zakresy wartości dla wszystkich kolumn\n",
        "column_ranges = calculate_ranges(dataframe)\n",
        "\n",
        "# Wyświetl wyniki\n",
        "for column, (min_value, max_value) in column_ranges.items():\n",
        "    if min_value is not None and max_value is not None:\n",
        "        print(f\"Range of '{column}' values: Min = {min_value}, Max = {max_value}\")\n",
        "    else:\n",
        "        print(f\"Column '{column}' is not numeric and has no range.\")\n"
      ]
    },
    {
      "cell_type": "markdown",
      "metadata": {
        "id": "Fxh4TsvKaBof"
      },
      "source": [
        "# Pola dostępne przy uczeniu modelu\n",
        "\n",
        "* id - identyfikator diagnozy, każda liczba unikalna (zakres: 8670, 911320502)\n",
        "\n",
        "* diagnosis - diagnoza, klasa B(łagodny) lub M(złośliwy)\n",
        "\n",
        "* radius_mean - średni promień, zakres (6.981, 28.11)\n",
        "\n",
        "* texture_mean - średnia tekstura, zakres (9.71, 39.28)\n",
        "\n",
        "* perimeter_mean - średnia obwodowa, zakres (43.79, 188.5)\n",
        "\n",
        "* area_mean - średnia pola, zakres (143.5, 2501)\n",
        "\n",
        "* smoothness_mean - średnia gładkość, zakres (0.05263, 0.1634)\n",
        "\n",
        "* compactness_mean - średnia zwartość, zakres (0.01938, 0.3454)\n",
        "\n",
        "* concavity_mean - średnia wklęsłość, zakres (0.0, 0.4268)\n",
        "\n",
        "* points_mean - średnia liczba punktów, zakres (0.0, 0.2012)\n",
        "\n",
        "* symmetry_mean - średnia symetria, zakres (0.106, 0.304)\n",
        "\n",
        "* dimension_mean - średnia wymiaru, zakres (0.04996, 0.09744)\n",
        "\n",
        "* radius_se - odchylenie standardowe promienia, zakres (0.1115, 2.873)\n",
        "\n",
        "* texture_se - odchylenie standardowe tekstury, zakres (0.3602, 4.885)\n",
        "\n",
        "* perimeter_se - odchylenie standardowe obwodu, zakres (0.757, 21.98)\n",
        "\n",
        "* area_se - odchylenie standardowe pola, zakres (6.802, 542.2)\n",
        "\n",
        "* smoothness_se - odchylenie standardowe gładkości, zakres (0.001713, 0.03113)\n",
        "\n",
        "* compactness_se - odchylenie standardowe zwartości, zakres (0.002252, 0.1354)\n",
        "\n",
        "* concavity_se - odchylenie standardowe wklęsłości, zakres (0.0, 0.396)\n",
        "\n",
        "* points_se - odchylenie standardowe liczby punktów, zakres (0.0, 0.05279)\n",
        "\n",
        "* symmetry_se - odchylenie standardowe symetrii, zakres (0.007882, 0.07895)\n",
        "\n",
        "* dimension_se - odchylenie standardowe wymiaru, zakres (0.0008948, 0.02984)\n",
        "\n",
        "* radius_worst - najgorszy promień, zakres (7.93, 36.04)\n",
        "\n",
        "* texture_worst - najgorsza tekstura, zakres (12.02, 49.54)\n",
        "\n",
        "* perimeter_worst - najgorszy obwód, zakres (50.41, 251.2)\n",
        "\n",
        "* area_worst - najgorsze pole, zakres (185.2, 4254.0)\n",
        "\n",
        "* smoothness_worst - najgorsza gładkość, zakres (0.07117, 0.2226)\n",
        "\n",
        "* compactness_worst - najgorsza zwartość, zakres (0.02729, 1.058)\n",
        "\n",
        "* concavity_worst - najgorsza wklęsłość, zakres (0.0, 1.252)\n",
        "\n",
        "* points_worst - najgorsza liczba punktów, zakres (0.0, 0.291)\n",
        "\n",
        "* symmetry_worst - najgorsza symetria, zakres (0.1565, 0.6638)\n",
        "\n",
        "* dimension_worst - najgorszy wymiar, zakres (0.05504, 0.2075)"
      ]
    },
    {
      "cell_type": "markdown",
      "source": [],
      "metadata": {
        "id": "vX13j6pSwEc_"
      }
    },
    {
      "cell_type": "code",
      "source": [],
      "metadata": {
        "id": "wJQj-Q7hRXLo"
      },
      "execution_count": null,
      "outputs": []
    },
    {
      "cell_type": "markdown",
      "metadata": {
        "id": "lcaZMTCdeyli"
      },
      "source": [
        "# Ocena jakości danych i rozwiązanie ewentualnych problemów z jakością\n",
        "\n",
        "* **Liczba rekordów**: 570\n",
        "* **Liczba kolumn**: 32\n",
        "* **Pole 'id'**: Nie wpływa na wynik, więc powinno zostać pominięte w analizie.\n",
        "* **Pole 'diagnosis'**: Informuje o wyniku diagnozy, jest to klasa (B - łagodny, M - złośliwy).\n",
        "\n",
        "* **Grupy pomiarów dostępne w badaniu**:\n",
        "  1. Średnia wyników pomiarów\n",
        "  2. Odchylenie standardowe pomiarów\n",
        "  3. Najgorszy wynik\n",
        "\n",
        "## Propozycje rozwiązań:\n",
        "\n",
        "### Propozycja 1:\n",
        "**Głębokie uczenie**\n",
        "* Uwzględnienie wszystkich danych pomiarowych, z wyłączeniem pola 'id'.\n",
        "* Wykorzystanie pola 'diagnosis' jako etykiety do uczenia.\n",
        "* Skupienie się na wszystkich pomiarach oraz kilku średnich.\n",
        "\n",
        "### Propozycja 2:\n",
        "**Regresja liniowa**\n",
        "* Skupienie się wyłącznie na odchyleniach standardowych oraz najgorszych wynikach.\n",
        "* Uwzględnienie tych danych w modelu regresji, aby przewidzieć diagnozę.\n",
        "\n",
        "### Propozycja 3:\n",
        "**Naiwny Bayes**\n",
        "* Skupienie się na najgorszych przypadkach wyników pomiarów.\n",
        "* Wykorzystanie tych danych do klasyfikacji za pomocą naiwnego klasyfikatora Bayesa.\n"
      ]
    },
    {
      "cell_type": "code",
      "execution_count": null,
      "metadata": {
        "id": "4KhXu1Uodul8"
      },
      "outputs": [],
      "source": [
        "#Ładoawnie danych\n",
        "import pandas as pd\n",
        "\n",
        "# Wczytaj dane z pliku CSV\n",
        "dataframe = pd.read_csv('/content/project_data/wisc_bc_data.csv')\n",
        "dataframe['diagnosis'] = dataframe['diagnosis'].map({'B': 0, 'M': 1})\n",
        "# Wyeliminuj duplikaty na podstawie kolumny 'id'\n",
        "dataframe = dataframe.drop_duplicates(subset='id')\n",
        "\n",
        "dataframe = dataframe.drop(columns=['id'])\n",
        "\n"
      ]
    },
    {
      "cell_type": "markdown",
      "source": [
        "Przygotowanie danych do obróbki\n",
        "* Pobieramy dane z pliku wisc_bc_data.csv obecnym w katalogu project_data.\n",
        "* Zmieniamy pole diagnoza na binarne wartości na potrzeby trenowania.\n",
        "* Rozróżniamy po id duplikaty i eliminujemy je duplikaty, jeśli jakieś są obecne.\n",
        "* Usuwamy pole id, gdyż nie będzie już potrzebne nam w procesie uczenia\n",
        "\n",
        "\n",
        "\n",
        "\n",
        "\n",
        "\n"
      ],
      "metadata": {
        "id": "2cwNkGo-SHv3"
      }
    },
    {
      "cell_type": "markdown",
      "metadata": {
        "id": "HCv-__4ebK2n"
      },
      "source": [
        "# Propozycja 1"
      ]
    },
    {
      "cell_type": "code",
      "execution_count": null,
      "metadata": {
        "colab": {
          "base_uri": "https://localhost:8080/",
          "height": 1000
        },
        "id": "iv0FrCtHcbIk",
        "outputId": "9668b40c-0e93-4c1c-e568-ccf3558ba2c8"
      },
      "outputs": [
        {
          "output_type": "stream",
          "name": "stdout",
          "text": [
            "Epoch 1/30\n",
            "12/12 [==============================] - 1s 20ms/step - loss: 0.3822 - accuracy: 0.9011 - val_loss: 0.2355 - val_accuracy: 0.9231\n",
            "Epoch 2/30\n",
            "12/12 [==============================] - 0s 4ms/step - loss: 0.1792 - accuracy: 0.9451 - val_loss: 0.1525 - val_accuracy: 0.9341\n",
            "Epoch 3/30\n",
            "12/12 [==============================] - 0s 4ms/step - loss: 0.1191 - accuracy: 0.9615 - val_loss: 0.1232 - val_accuracy: 0.9560\n",
            "Epoch 4/30\n",
            "12/12 [==============================] - 0s 6ms/step - loss: 0.0939 - accuracy: 0.9835 - val_loss: 0.1122 - val_accuracy: 0.9560\n",
            "Epoch 5/30\n",
            "12/12 [==============================] - 0s 4ms/step - loss: 0.0798 - accuracy: 0.9890 - val_loss: 0.1106 - val_accuracy: 0.9451\n",
            "Epoch 6/30\n",
            "12/12 [==============================] - 0s 4ms/step - loss: 0.0722 - accuracy: 0.9835 - val_loss: 0.1046 - val_accuracy: 0.9451\n",
            "Epoch 7/30\n",
            "12/12 [==============================] - 0s 4ms/step - loss: 0.0646 - accuracy: 0.9890 - val_loss: 0.0972 - val_accuracy: 0.9451\n",
            "Epoch 8/30\n",
            "12/12 [==============================] - 0s 5ms/step - loss: 0.0596 - accuracy: 0.9890 - val_loss: 0.0957 - val_accuracy: 0.9451\n",
            "Epoch 9/30\n",
            "12/12 [==============================] - 0s 4ms/step - loss: 0.0559 - accuracy: 0.9890 - val_loss: 0.0980 - val_accuracy: 0.9451\n",
            "Epoch 10/30\n",
            "12/12 [==============================] - 0s 4ms/step - loss: 0.0511 - accuracy: 0.9890 - val_loss: 0.1010 - val_accuracy: 0.9451\n",
            "Epoch 11/30\n",
            "12/12 [==============================] - 0s 5ms/step - loss: 0.0486 - accuracy: 0.9890 - val_loss: 0.0970 - val_accuracy: 0.9451\n",
            "Epoch 12/30\n",
            "12/12 [==============================] - 0s 4ms/step - loss: 0.0457 - accuracy: 0.9890 - val_loss: 0.0954 - val_accuracy: 0.9451\n",
            "Epoch 13/30\n",
            "12/12 [==============================] - 0s 5ms/step - loss: 0.0416 - accuracy: 0.9890 - val_loss: 0.0930 - val_accuracy: 0.9451\n",
            "Epoch 14/30\n",
            "12/12 [==============================] - 0s 4ms/step - loss: 0.0387 - accuracy: 0.9890 - val_loss: 0.0915 - val_accuracy: 0.9451\n",
            "Epoch 15/30\n",
            "12/12 [==============================] - 0s 4ms/step - loss: 0.0365 - accuracy: 0.9890 - val_loss: 0.0926 - val_accuracy: 0.9451\n",
            "Epoch 16/30\n",
            "12/12 [==============================] - 0s 4ms/step - loss: 0.0348 - accuracy: 0.9890 - val_loss: 0.0937 - val_accuracy: 0.9560\n",
            "Epoch 17/30\n",
            "12/12 [==============================] - 0s 4ms/step - loss: 0.0320 - accuracy: 0.9890 - val_loss: 0.0888 - val_accuracy: 0.9451\n",
            "Epoch 18/30\n",
            "12/12 [==============================] - 0s 7ms/step - loss: 0.0289 - accuracy: 0.9890 - val_loss: 0.0962 - val_accuracy: 0.9560\n",
            "Epoch 19/30\n",
            "12/12 [==============================] - 0s 3ms/step - loss: 0.0282 - accuracy: 0.9890 - val_loss: 0.0894 - val_accuracy: 0.9560\n",
            "Epoch 20/30\n",
            "12/12 [==============================] - 0s 4ms/step - loss: 0.0259 - accuracy: 0.9918 - val_loss: 0.0946 - val_accuracy: 0.9560\n",
            "Epoch 21/30\n",
            "12/12 [==============================] - 0s 4ms/step - loss: 0.0229 - accuracy: 0.9918 - val_loss: 0.0863 - val_accuracy: 0.9560\n",
            "Epoch 22/30\n",
            "12/12 [==============================] - 0s 3ms/step - loss: 0.0218 - accuracy: 0.9918 - val_loss: 0.0821 - val_accuracy: 0.9560\n",
            "Epoch 23/30\n",
            "12/12 [==============================] - 0s 4ms/step - loss: 0.0196 - accuracy: 0.9918 - val_loss: 0.0812 - val_accuracy: 0.9560\n",
            "Epoch 24/30\n",
            "12/12 [==============================] - 0s 5ms/step - loss: 0.0172 - accuracy: 0.9945 - val_loss: 0.0851 - val_accuracy: 0.9560\n",
            "Epoch 25/30\n",
            "12/12 [==============================] - 0s 3ms/step - loss: 0.0160 - accuracy: 0.9973 - val_loss: 0.0839 - val_accuracy: 0.9560\n",
            "Epoch 26/30\n",
            "12/12 [==============================] - 0s 3ms/step - loss: 0.0142 - accuracy: 1.0000 - val_loss: 0.0819 - val_accuracy: 0.9560\n",
            "Epoch 27/30\n",
            "12/12 [==============================] - 0s 5ms/step - loss: 0.0128 - accuracy: 1.0000 - val_loss: 0.0765 - val_accuracy: 0.9560\n",
            "Epoch 28/30\n",
            "12/12 [==============================] - 0s 3ms/step - loss: 0.0118 - accuracy: 1.0000 - val_loss: 0.0757 - val_accuracy: 0.9560\n",
            "Epoch 29/30\n",
            "12/12 [==============================] - 0s 3ms/step - loss: 0.0123 - accuracy: 1.0000 - val_loss: 0.0789 - val_accuracy: 0.9670\n",
            "Epoch 30/30\n",
            "12/12 [==============================] - 0s 3ms/step - loss: 0.0113 - accuracy: 0.9945 - val_loss: 0.0670 - val_accuracy: 0.9670\n"
          ]
        },
        {
          "output_type": "display_data",
          "data": {
            "text/plain": [
              "<Figure size 1200x800 with 2 Axes>"
            ],
            "image/png": "[encoded data removed]"
          },
          "metadata": {}
        },
        {
          "output_type": "stream",
          "name": "stdout",
          "text": [
            "4/4 [==============================] - 0s 6ms/step - loss: 0.0243 - accuracy: 0.9825\n",
            "Test Loss: 0.02431727759540081\n",
            "Test Accuracy: 0.9824561476707458\n"
          ]
        }
      ],
      "source": [
        "\n",
        "import tensorflow as tf\n",
        "from sklearn.model_selection import train_test_split\n",
        "from sklearn.preprocessing import StandardScaler\n",
        "\n",
        "# Podział na dane treningowe, walidacyjne i testowe\n",
        "train, test = train_test_split(dataframe, test_size=0.2, random_state=42)\n",
        "train, val = train_test_split(train, test_size=0.2, random_state=42)\n",
        "\n",
        "dataframe.drop(columns=['radius_mean','texture_mean',\n",
        "                        \"perimeter_mean\", \"area_mean\",\n",
        "                        \"points_mean\",\n",
        "                        \"symmetry_mean\", \"dimension_mean\"\n",
        "\n",
        "                        ])\n",
        "\n",
        "# Oddzielenie cech i etykiet\n",
        "train_labels = train.pop('diagnosis')\n",
        "val_labels = val.pop('diagnosis')\n",
        "test_labels = test.pop('diagnosis')\n",
        "\n",
        "# Standaryzacja danych\n",
        "scaler = StandardScaler()\n",
        "train = scaler.fit_transform(train)\n",
        "val = scaler.transform(val)\n",
        "test = scaler.transform(test)\n",
        "\n",
        "# Konwersja danych do tf.data.Dataset\n",
        "def df_to_dataset(features, labels, shuffle=True, batch_size=32):\n",
        "    ds = tf.data.Dataset.from_tensor_slices((features, labels))\n",
        "    if shuffle:\n",
        "        ds = ds.shuffle(buffer_size=len(features))\n",
        "    ds = ds.batch(batch_size)\n",
        "    return ds\n",
        "\n",
        "batch_size = 32\n",
        "train_ds = df_to_dataset(train, train_labels, batch_size=batch_size)\n",
        "val_ds = df_to_dataset(val, val_labels, shuffle=False, batch_size=batch_size)\n",
        "test_ds = df_to_dataset(test, test_labels, shuffle=False, batch_size=batch_size)\n",
        "\n",
        "# Budowa modelu sieci neuronowej\n",
        "model = tf.keras.Sequential([\n",
        "    tf.keras.layers.InputLayer(input_shape=(train.shape[1],)),\n",
        "    tf.keras.layers.Dense(128, activation='relu'),\n",
        "    tf.keras.layers.Dense(64, activation='relu'),\n",
        "    tf.keras.layers.Dense(1, activation='sigmoid')\n",
        "])\n",
        "\n",
        "model.compile(optimizer='adam',\n",
        "              loss='binary_crossentropy',\n",
        "              metrics=['accuracy'])\n",
        "\n",
        "# Trenowanie modelu\n",
        "history = model.fit(train_ds,\n",
        "                    validation_data=val_ds,\n",
        "                    epochs=30)\n",
        "\n",
        "# Wizualizacja historii trenowania\n",
        "import matplotlib.pyplot as plt\n",
        "\n",
        "def plot_training_history(history):\n",
        "    hist = history.history\n",
        "    epochs = history.epoch\n",
        "\n",
        "    plt.figure(figsize=(12, 8))\n",
        "\n",
        "    # Plot loss\n",
        "    plt.subplot(2, 1, 1)\n",
        "    plt.plot(epochs, hist['loss'], label='Training Loss')\n",
        "    plt.plot(epochs, hist['val_loss'], label='Validation Loss')\n",
        "    plt.xlabel('Epochs')\n",
        "    plt.ylabel('Loss')\n",
        "    plt.legend()\n",
        "    plt.title('Training and Validation Loss')\n",
        "    plt.xticks(epochs)\n",
        "\n",
        "    # Plot accuracy\n",
        "    plt.subplot(2, 1, 2)\n",
        "    plt.plot(epochs, hist['accuracy'], label='Training Accuracy')\n",
        "    plt.plot(epochs, hist['val_accuracy'], label='Validation Accuracy')\n",
        "    plt.xlabel('Epochs')\n",
        "    plt.ylabel('Accuracy')\n",
        "    plt.legend()\n",
        "    plt.title('Training and Validation Accuracy')\n",
        "    plt.xticks(epochs)\n",
        "\n",
        "    plt.show()\n",
        "\n",
        "plot_training_history(history)\n",
        "\n",
        "# Ewaluacja modelu na zbiorze testowym\n",
        "test_loss, test_accuracy = model.evaluate(test_ds)\n",
        "print(f'Test Loss: {test_loss}')\n",
        "print(f'Test Accuracy: {test_accuracy}')\n"
      ]
    },
    {
      "cell_type": "markdown",
      "source": [
        "**Omówienie wyników**\n",
        "\n",
        "Największa zmiana poprawności jest obserwowana między pierwszą a drugą epoką. W ciągu dziesięciu pierwszych epok poprawność modelu zmienia się dynamicznie, po czym stabilizuje się do dwudziestej pierwszej epoki. Od dwudziestej siódmej epoki model osiąga poprawność na poziomie 100%."
      ],
      "metadata": {
        "id": "Rwu4raA0zida"
      }
    },
    {
      "cell_type": "markdown",
      "source": [
        "# Propozycja 2"
      ],
      "metadata": {
        "id": "DDrtLaP8wFl7"
      }
    },
    {
      "cell_type": "code",
      "source": [
        "from sklearn.model_selection import train_test_split\n",
        "from sklearn.preprocessing import StandardScaler\n",
        "from sklearn.linear_model import LinearRegression\n",
        "from sklearn.metrics import accuracy_score, confusion_matrix\n",
        "\n",
        "# Wybieranie tylko kolumn odchylenia standardowego\n",
        "se_columns = [col for col in dataframe.columns if '_se' in col or '_worst' in col]\n",
        "se_columns.append('diagnosis')  # Dodanie kolumny diagnosis do listy\n",
        "\n",
        "dataframe_se = dataframe[se_columns]\n",
        "\n",
        "# Podział na dane treningowe, walidacyjne i testowe\n",
        "train, test = train_test_split(dataframe_se, test_size=0.2, random_state=42)\n",
        "train, val = train_test_split(train, test_size=0.2, random_state=42)\n",
        "\n",
        "# Oddzielenie cech i etykiet\n",
        "train_labels = train.pop('diagnosis')\n",
        "val_labels = val.pop('diagnosis')\n",
        "test_labels = test.pop('diagnosis')\n",
        "\n",
        "# Standaryzacja danych\n",
        "scaler = StandardScaler()\n",
        "train = scaler.fit_transform(train)\n",
        "val = scaler.transform(val)\n",
        "test = scaler.transform(test)\n",
        "\n",
        "# Trenowanie modelu regresji liniowej\n",
        "model = LinearRegression()\n",
        "model.fit(train, train_labels)\n",
        "\n",
        "# Przewidywanie na zbiorze walidacyjnym i testowym\n",
        "val_predictions = model.predict(val)\n",
        "test_predictions = model.predict(test)\n",
        "\n",
        "# Zaokrąglanie przewidywań do najbliższej liczby całkowitej (0 lub 1)\n",
        "val_predictions_rounded = [round(pred) for pred in val_predictions]\n",
        "test_predictions_rounded = [round(pred) for pred in test_predictions]\n",
        "\n",
        "# Ewaluacja modelu\n",
        "val_accuracy = accuracy_score(val_labels, val_predictions_rounded)\n",
        "test_accuracy = accuracy_score(test_labels, test_predictions_rounded)\n",
        "\n",
        "val_cm = confusion_matrix(val_labels, val_predictions_rounded)\n",
        "test_cm = confusion_matrix(test_labels, test_predictions_rounded)\n",
        "\n",
        "print(f'Validation Accuracy: {val_accuracy}')\n",
        "print(f'Test Accuracy: {test_accuracy}')\n"
      ],
      "metadata": {
        "colab": {
          "base_uri": "https://localhost:8080/"
        },
        "id": "Xaw0-jx_woEn",
        "outputId": "f702b0ec-c892-481b-f60e-fb4a80eeeb1b"
      },
      "execution_count": null,
      "outputs": [
        {
          "output_type": "stream",
          "name": "stdout",
          "text": [
            "Validation Accuracy: 0.978021978021978\n",
            "Test Accuracy: 0.956140350877193\n"
          ]
        }
      ]
    },
    {
      "cell_type": "markdown",
      "source": [
        "# Omówienie wyników\n",
        "\n",
        "Wykorzystanie regresji liniowej, uwzględniającej jedynie odchylenia standardowe oraz najgorsze wyniki, przyniosło zadowalające rezultaty. Model osiągnął 95% poprawności na zbiorze testowym oraz około 97% poprawności na zbiorze walidacyjnym. Biorąc pod uwagę niskie koszty obliczeniowe, wyniki te są bardzo satysfakcjonujące.\n"
      ],
      "metadata": {
        "id": "5v3i_tn60z1g"
      }
    },
    {
      "cell_type": "markdown",
      "source": [
        "# Propozycja 3"
      ],
      "metadata": {
        "id": "AJSZGHAKzFoS"
      }
    },
    {
      "cell_type": "code",
      "source": [
        "from sklearn.model_selection import train_test_split\n",
        "from sklearn.preprocessing import StandardScaler\n",
        "from sklearn.naive_bayes import GaussianNB\n",
        "from sklearn.metrics import accuracy_score, confusion_matrix\n",
        "\n",
        "\n",
        "# Wybieranie tylko kolumn odchylenia standardowego i najgorszych wyników\n",
        "selected_columns = [col for col in dataframe.columns if '_se' in col or '_worst' in col]\n",
        "selected_columns.append('diagnosis')  # Dodanie kolumny diagnosis do listy\n",
        "\n",
        "dataframe_selected = dataframe[selected_columns]\n",
        "\n",
        "# Podział na dane treningowe, walidacyjne i testowe\n",
        "train, test = train_test_split(dataframe_selected, test_size=0.2, random_state=42)\n",
        "train, val = train_test_split(train, test_size=0.2, random_state=42)\n",
        "\n",
        "# Oddzielenie cech i etykiet\n",
        "train_labels = train.pop('diagnosis')\n",
        "val_labels = val.pop('diagnosis')\n",
        "test_labels = test.pop('diagnosis')\n",
        "\n",
        "# Standaryzacja danych\n",
        "scaler = StandardScaler()\n",
        "train = scaler.fit_transform(train)\n",
        "val = scaler.transform(val)\n",
        "test = scaler.transform(test)\n",
        "\n",
        "# Trenowanie modelu Naive Bayes\n",
        "model = GaussianNB()\n",
        "model.fit(train, train_labels)\n",
        "\n",
        "# Przewidywanie na zbiorze walidacyjnym i testowym\n",
        "val_predictions = model.predict(val)\n",
        "test_predictions = model.predict(test)\n",
        "\n",
        "# Ewaluacja modelu\n",
        "val_accuracy = accuracy_score(val_labels, val_predictions)\n",
        "test_accuracy = accuracy_score(test_labels, test_predictions)\n",
        "\n",
        "val_cm = confusion_matrix(val_labels, val_predictions)\n",
        "test_cm = confusion_matrix(test_labels, test_predictions)\n",
        "\n",
        "print(f'Validation Accuracy: {val_accuracy}')\n",
        "print(f'Test Accuracy: {test_accuracy}')\n"
      ],
      "metadata": {
        "colab": {
          "base_uri": "https://localhost:8080/"
        },
        "id": "lXhENE8E2haJ",
        "outputId": "628f7cb4-397e-4faf-872a-844c54daa88c"
      },
      "execution_count": null,
      "outputs": [
        {
          "output_type": "stream",
          "name": "stdout",
          "text": [
            "Validation Accuracy: 0.945054945054945\n",
            "Test Accuracy: 0.9473684210526315\n"
          ]
        }
      ]
    },
    {
      "cell_type": "markdown",
      "source": [
        "**Omówienie wyników**\n",
        "\n",
        "Poprawność testowa i walidacyjna utrzymują się na zbliżonym poziomie, wynoszącym niecałe 95%.\n"
      ],
      "metadata": {
        "id": "zk0SE_lt3S8Z"
      }
    },
    {
      "cell_type": "markdown",
      "source": [
        "# Ocena modeli\n",
        "\n",
        "Najlepsze wyniki osiągnęła sieć neuronowa, która po 21 epokach uzyskała dokładność na poziomie 1.0, jednak wymagała ona największej ilości obliczeń. Regresja liniowa, choć nieco mniej dokładna, była znacznie bardziej oszczędna obliczeniowo. Najsłabiej wypadł algorytm oparty na naiwnym Bayesie, ale jego dokładność wciąż była zbliżona do wyników uzyskanych za pomocą regresji liniowej.\n"
      ],
      "metadata": {
        "id": "LaKaYBEx4ma0"
      }
    }
  ],
  "metadata": {
    "colab": {
      "provenance": []
    },
    "kernelspec": {
      "display_name": "Python 3",
      "name": "python3"
    },
    "language_info": {
      "name": "python"
    }
  },
  "nbformat": 4,
  "nbformat_minor": 0
}